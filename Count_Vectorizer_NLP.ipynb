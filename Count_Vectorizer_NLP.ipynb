{
  "nbformat": 4,
  "nbformat_minor": 0,
  "metadata": {
    "colab": {
      "provenance": [],
      "authorship_tag": "ABX9TyNlI/aNLwTmyKsIiJB1veYN",
      "include_colab_link": true
    },
    "kernelspec": {
      "name": "python3",
      "display_name": "Python 3"
    },
    "language_info": {
      "name": "python"
    }
  },
  "cells": [
    {
      "cell_type": "markdown",
      "metadata": {
        "id": "view-in-github",
        "colab_type": "text"
      },
      "source": [
        "<a href=\"https://colab.research.google.com/github/oguzhansarigol/Machine-Learning-Oguzhan-Sarigol/blob/main/Count_Vectorizer_NLP.ipynb\" target=\"_parent\"><img src=\"https://colab.research.google.com/assets/colab-badge.svg\" alt=\"Open In Colab\"/></a>"
      ]
    },
    {
      "cell_type": "code",
      "execution_count": 16,
      "metadata": {
        "id": "KqVGPPumW5-a"
      },
      "outputs": [],
      "source": [
        "import pandas as pd\n",
        "import numpy as np\n",
        "from sklearn.feature_extraction.text import CountVectorizer"
      ]
    },
    {
      "cell_type": "code",
      "source": [
        "df=pd.DataFrame()"
      ],
      "metadata": {
        "id": "pMvGQg85U_g8"
      },
      "execution_count": 17,
      "outputs": []
    },
    {
      "cell_type": "code",
      "source": [
        "df[\"sentences\"]=[\"ali bak\",\"ali ata bak\",\"bak ali bak\",\"ali güzel ata bak\",\"ışık ılık süt iç\",\"ışık süt iç\",\"iç ışık iç\"]"
      ],
      "metadata": {
        "id": "SLCCQbvrVCln"
      },
      "execution_count": 18,
      "outputs": []
    },
    {
      "cell_type": "code",
      "source": [
        "cv=CountVectorizer(max_features=4)"
      ],
      "metadata": {
        "id": "BRSiSBECVUM1"
      },
      "execution_count": 22,
      "outputs": []
    },
    {
      "cell_type": "code",
      "source": [
        "a=cv.fit_transform(df[\"sentences\"])"
      ],
      "metadata": {
        "id": "IeUR3pJCVd93"
      },
      "execution_count": 23,
      "outputs": []
    },
    {
      "cell_type": "code",
      "source": [
        "x=a.toarray()"
      ],
      "metadata": {
        "id": "uLTWdrSvVlzS"
      },
      "execution_count": 26,
      "outputs": []
    },
    {
      "cell_type": "code",
      "source": [
        "cv.get_feature_names_out()"
      ],
      "metadata": {
        "colab": {
          "base_uri": "https://localhost:8080/"
        },
        "id": "fmqczPzAVqzv",
        "outputId": "1c976eda-1723-4e1f-8506-57b931a4accc"
      },
      "execution_count": 28,
      "outputs": [
        {
          "output_type": "execute_result",
          "data": {
            "text/plain": [
              "array(['ali', 'ata', 'bak', 'güzel'], dtype=object)"
            ]
          },
          "metadata": {},
          "execution_count": 28
        }
      ]
    },
    {
      "cell_type": "code",
      "source": [
        "#stop words\n",
        "# a, an, the, and, is, in, on, at, of, to, for, with, by, it, he, she, they, that, this, which, there"
      ],
      "metadata": {
        "id": "kC35dhS4W29o"
      },
      "execution_count": null,
      "outputs": []
    }
  ]
}